{
    "cells": [
        {
            "cell_type": "markdown",
            "metadata": {
                "collapsed": true
            },
            "source": "<h3> Introduction/Business Problem </h3>\n\nMy proposal is that in order to better inform a restaurateur/ food franchise, I will leverage the Foursqaure data to determine the best suburb area for a new store opening as well as the trying to identify the best type of restraunt, "
        },
        {
            "cell_type": "markdown",
            "metadata": {},
            "source": "<h3> Data </h3>\n\nplease note that some of this is speculative as im still identifiying other sources of info that can be extracted from Foursquare :\n\nI plan on doing this for my city, which means I may have to scrap a website for the full list of suburbs in my city.\nspecifically residential suburbs.\n\nmy hope is that from the foursquare data i can pull the type of restraunt and rating to calulate the top 3 restraunt types in the city, \nthen leverageing that knowledge i will then look for areas that have no or low level of that type and grade of restraunt and produce a shortlist of areas that would benefit from a restraunt type that either doesnt exist in that area or that there are very few of that type."
        },
        {
            "cell_type": "code",
            "execution_count": null,
            "metadata": {},
            "outputs": [],
            "source": ""
        }
    ],
    "metadata": {
        "kernelspec": {
            "display_name": "Python 3.6",
            "language": "python",
            "name": "python3"
        },
        "language_info": {
            "codemirror_mode": {
                "name": "ipython",
                "version": 3
            },
            "file_extension": ".py",
            "mimetype": "text/x-python",
            "name": "python",
            "nbconvert_exporter": "python",
            "pygments_lexer": "ipython3",
            "version": "3.6.9"
        }
    },
    "nbformat": 4,
    "nbformat_minor": 1
}