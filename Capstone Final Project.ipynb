{
    "cells": [
        {
            "cell_type": "markdown",
            "metadata": {
                "collapsed": true
            },
            "source": "<h3> Introduction/Business Problem </h3>\nIn the current competetive market of restuarants its not always a clean cut answer as to where the best place to open a restraunt is,\n\nMy proposal is that in order to better inform a restaurateur/ food franchise, I will leverage the Foursqaure data to determine the best way in which to find a suburb for a new store opening. In addition to this I will determine the most likely candidate for the 'type' of restraunt that could thrive in this suburb.\n\nI believe this would better inform any persons or company looking to garner some insight as to where there are market gaps based on locations, \npossible increasing the liklihood of a restuarants success."
        },
        {
            "cell_type": "markdown",
            "metadata": {},
            "source": "<h3> Data </h3>\n\nI plan on doing this for my city, which means I may have to scrap a website for the full list of suburbs in my city, to narrow down the selection i will scraping specifically for residential suburbs, most likely having to use this site for that info https://www.joburg.org.za/about_/regions/Pages/Region%20E%20-%20Sandton,%20Alexandra/suburbs.aspx\n\nMy hope is that from the foursquare data I can pull the type of restraunt and rating to calulate the top 3 restraunt types accross the city -\nthen leverageing that knowledge i will then look for areas that have no or low quantities of that type and grade of restraunt and produce a shortlist of areas that would benefit from a restraunt type that either doesnt exist in that area or that there are very few of that type."
        },
        {
            "cell_type": "code",
            "execution_count": null,
            "metadata": {},
            "outputs": [],
            "source": ""
        }
    ],
    "metadata": {
        "kernelspec": {
            "display_name": "Python 3.6",
            "language": "python",
            "name": "python3"
        },
        "language_info": {
            "codemirror_mode": {
                "name": "ipython",
                "version": 3
            },
            "file_extension": ".py",
            "mimetype": "text/x-python",
            "name": "python",
            "nbconvert_exporter": "python",
            "pygments_lexer": "ipython3",
            "version": "3.6.9"
        }
    },
    "nbformat": 4,
    "nbformat_minor": 1
}